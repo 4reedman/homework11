{
 "cells": [
  {
   "cell_type": "markdown",
   "metadata": {},
   "source": [
    "Create a program that allows you to search for images in gif format. The program should allow you to enter a search word. Using this word, search for GIFs using the Giphy API. As a result, print the links to the GIFs."
   ]
  },
  {
   "cell_type": "code",
   "execution_count": 6,
   "metadata": {},
   "outputs": [
    {
     "name": "stdout",
     "output_type": "stream",
     "text": [
      "https://giphy.com/gifs/parksandrec-season-7-episode-11-parks-and-recreation-8UagHnhlPnDajVelkq\n"
     ]
    }
   ],
   "source": [
    "import requests, json\n",
    "\n",
    "def get_gifs_urls(search_keyword):\n",
    "    response = requests.get(f'https://api.giphy.com/v1/gifs/search?api_key=7yQ6RDmNU75vo0pnN4QrZjrWqHnoohHI&q={search_keyword}&limit=1&offset=0&rating=g&lang=en&bundle=messaging_non_clips')\n",
    "    if response:\n",
    "        result = response.json()\n",
    "        data = result.get('data')\n",
    "    return print(data[0]['url'])\n",
    "\n",
    "\n",
    "get_gifs_urls(input('What GIFs we are looking for?'))"
   ]
  }
 ],
 "metadata": {
  "kernelspec": {
   "display_name": "base",
   "language": "python",
   "name": "python3"
  },
  "language_info": {
   "codemirror_mode": {
    "name": "ipython",
    "version": 3
   },
   "file_extension": ".py",
   "mimetype": "text/x-python",
   "name": "python",
   "nbconvert_exporter": "python",
   "pygments_lexer": "ipython3",
   "version": "3.10.12"
  },
  "orig_nbformat": 4
 },
 "nbformat": 4,
 "nbformat_minor": 2
}
