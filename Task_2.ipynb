{
 "cells": [
  {
   "cell_type": "code",
   "execution_count": 13,
   "metadata": {},
   "outputs": [
    {
     "name": "stderr",
     "output_type": "stream",
     "text": [
      "2023-08-03 19:38:52,749 (__init__.py:966 MainThread) ERROR - TeleBot: \"Infinity polling: polling exited\"\n",
      "2023-08-03 19:38:52,754 (__init__.py:968 MainThread) ERROR - TeleBot: \"Break infinity polling\"\n"
     ]
    }
   ],
   "source": [
    "import telebot, requests, json\n",
    "\n",
    "bot = telebot.TeleBot('6539396166:AAHAKr8fAghFjAhLezCR1VbdNNN4O9Ko6YM')\n",
    "\n",
    "@bot.message_handler(commands=['start'])\n",
    "def reply_to_start(message):\n",
    "    bot.send_message(message.chat.id, f'Привіт, {message.from_user.first_name} яку GIF шукаємо?')\n",
    "\n",
    "@bot.message_handler(content_types=['text'])\n",
    "def get_gifs_urls(message):\n",
    "    response = requests.get(f'https://api.giphy.com/v1/gifs/search?api_key=7yQ6RDmNU75vo0pnN4QrZjrWqHnoohHI&q={message.text}&limit=1&offset=0&rating=g&lang=en&bundle=messaging_non_clips')\n",
    "    if response:\n",
    "        data = json.loads(response.text)\n",
    "        bot.send_message(message.chat.id, f'{data[\"data\"][0][\"url\"]}')\n",
    "    \n",
    "bot.infinity_polling()\n"
   ]
  }
 ],
 "metadata": {
  "kernelspec": {
   "display_name": "base",
   "language": "python",
   "name": "python3"
  },
  "language_info": {
   "codemirror_mode": {
    "name": "ipython",
    "version": 3
   },
   "file_extension": ".py",
   "mimetype": "text/x-python",
   "name": "python",
   "nbconvert_exporter": "python",
   "pygments_lexer": "ipython3",
   "version": "3.10.12"
  },
  "orig_nbformat": 4
 },
 "nbformat": 4,
 "nbformat_minor": 2
}
